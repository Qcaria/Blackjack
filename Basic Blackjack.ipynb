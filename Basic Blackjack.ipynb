{
 "cells": [
  {
   "cell_type": "code",
   "execution_count": 449,
   "metadata": {},
   "outputs": [],
   "source": [
    "#My take on the Blackjack policy improvement using Monte Carlo Methods\n",
    "import random\n",
    "import numpy as np\n",
    "import matplotlib.pyplot as plt"
   ]
  },
  {
   "cell_type": "code",
   "execution_count": 450,
   "metadata": {},
   "outputs": [],
   "source": [
    "deck = ['A', 2, 3, 4, 5, 6, 7, 8, 9, 10, 'J', 'Q', 'K']\n",
    "values = [i for i in range(4,22)]\n",
    "ds = ['A', 2, 3, 4, 5, 6, 7, 8, 9, 10]\n",
    "dealer_sticks = 17"
   ]
  },
  {
   "cell_type": "code",
   "execution_count": 451,
   "metadata": {},
   "outputs": [],
   "source": [
    "def draw_card(deck):\n",
    "    card = random.choice(deck)\n",
    "    if card in ['J', 'Q', 'K']:\n",
    "        card = 10\n",
    "    return card\n",
    "\n",
    "def initialize_state(deck):\n",
    "    #Player hand\n",
    "    h1 = draw_card(deck)\n",
    "    h2 = draw_card(deck)\n",
    "    \n",
    "    if h1 == 'A' and h2 == 'A':\n",
    "        player_sum = 12\n",
    "        usable_ace = True\n",
    "        \n",
    "    elif h1 == 'A':\n",
    "        if h2+11 <= 21:\n",
    "            player_sum = h2+11\n",
    "            usable_ace = True\n",
    "        else: \n",
    "            player_sum = h2+1\n",
    "            usable_ace = False    \n",
    "    elif h2 == 'A':\n",
    "        if h1+11 <= 21:\n",
    "            player_sum = h1+11\n",
    "            usable_ace = True\n",
    "        else: \n",
    "            player_sum = h1+1\n",
    "            usable_ace = False\n",
    "    else:\n",
    "        player_sum = h1+h2\n",
    "        usable_ace = False\n",
    "    \n",
    "    #Dealer hand\n",
    "    d1 = draw_card(deck)\n",
    "    \n",
    "    return usable_ace, player_sum, d1"
   ]
  },
  {
   "cell_type": "code",
   "execution_count": 452,
   "metadata": {},
   "outputs": [],
   "source": [
    "class Gambler:\n",
    "    def __init__(self):\n",
    "        self.Q = {}\n",
    "        self.N = {}\n",
    "        self.policy = {}\n",
    "        self.states = [(ace, player_sum, d1) for ace in [True, False] for player_sum in values for d1 in ds]  \n",
    "        for s in self.states:\n",
    "            if s[1]>= 20:\n",
    "                self.policy[s] = 'Stand'\n",
    "            else:\n",
    "                self.policy[s] = 'Hit'\n",
    "            for a in ['Hit', 'Stand']:\n",
    "                self.Q[s, a] = 0\n",
    "                self.N[s, a] = 0\n",
    "                \n",
    "    def show_policy(self):\n",
    "        usable_ace = np.zeros([18, 10])\n",
    "        no_usable_ace = np.zeros([18, 10])\n",
    "        for s in self.states:\n",
    "            if s[2] == 'A':\n",
    "                d = 1\n",
    "            else:\n",
    "                d = s[2]\n",
    "                \n",
    "            if s[0] and self.policy[s] == 'Hit':\n",
    "                usable_ace[s[1]-4, d-1] = 1\n",
    "            if not s[0] and self.policy[s] == 'Hit':\n",
    "                no_usable_ace[s[1]-4, d-1] = 1\n",
    "                \n",
    "        plt.imshow(usable_ace, origin = 'lower', extent = [1, 10, 4, 21])\n",
    "        plt.figure()\n",
    "        plt.imshow(no_usable_ace, origin = 'lower', extent = [1, 10, 4, 21])\n",
    "        #print(usable_ace)\n",
    "        \n",
    "    def learn(self, r, game_record):\n",
    "        for s, a in game_record:\n",
    "            self.N[s, a] += 1\n",
    "            self.Q[s, a] += 1/self.N[s, a]*(r-self.Q[s, a])\n",
    "            \n",
    "            if self.Q[s, 'Hit'] > self.Q[s, 'Stand']:\n",
    "                self.policy[s] = 'Hit'\n",
    "            else: self.policy[s] = 'Stand'\n",
    "        \n",
    "def compute_sum(new_card, hand_sum, ace):\n",
    "    if new_card == 'A':\n",
    "        if hand_sum+11 <= 21:\n",
    "            ace = True\n",
    "            hand_sum += 11\n",
    "        else:\n",
    "            hand_sum += 1\n",
    "            \n",
    "    else: hand_sum += new_card\n",
    "    if hand_sum > 21 and ace:\n",
    "        hand_sum -= 10\n",
    "        ace = False\n",
    "    return hand_sum, ace\n",
    "    "
   ]
  },
  {
   "cell_type": "code",
   "execution_count": 466,
   "metadata": {},
   "outputs": [],
   "source": [
    "def play_game(deck, player):\n",
    "    \n",
    "    starting_action = random.choice(['Hit', 'Stand'])\n",
    "    game_record = [(initialize_state(deck), starting_action)]\n",
    "    \n",
    "    while True:\n",
    "        state = game_record[-1][0]\n",
    "        player_sum = state[1]\n",
    "        player_action = game_record[-1][1]\n",
    "            \n",
    "        if player_action == 'Hit':\n",
    "            card = draw_card(deck)\n",
    "            player_sum, usable_ace = compute_sum(card, player_sum, state[0])\n",
    "            new_state = (usable_ace, player_sum, state[2])\n",
    "            if player_sum > 21:\n",
    "                return -1, game_record\n",
    "            game_record.append((new_state, player.policy[new_state]))\n",
    "        else:\n",
    "            dealer_card = state[2]\n",
    "            if dealer_card == 'A':\n",
    "                dealer_sum = 11\n",
    "                dealer_ace = True\n",
    "            else: \n",
    "                dealer_sum = dealer_card\n",
    "                dealer_ace = False\n",
    "            while True:\n",
    "                card = draw_card(deck)\n",
    "                dealer_sum, dealer_ace = compute_sum(card, dealer_sum, dealer_ace)\n",
    "                if dealer_sum > 21:\n",
    "                    return 1, game_record\n",
    "                elif dealer_sum >= dealer_sticks:\n",
    "                    if dealer_sum > player_sum:\n",
    "                        return -1, game_record\n",
    "                    elif dealer_sum == player_sum:\n",
    "                        return 0, game_record\n",
    "                    return 1, game_record"
   ]
  },
  {
   "cell_type": "code",
   "execution_count": 467,
   "metadata": {},
   "outputs": [],
   "source": [
    "player = Gambler()"
   ]
  },
  {
   "cell_type": "code",
   "execution_count": 468,
   "metadata": {
    "scrolled": false
   },
   "outputs": [
    {
     "data": {
      "image/png": "[encoded data removed]",
      "text/plain": [
       "<Figure size 432x288 with 1 Axes>"
      ]
     },
     "metadata": {
      "needs_background": "light"
     },
     "output_type": "display_data"
    },
    {
     "data": {
      "image/png": "[encoded data removed]",
      "text/plain": [
       "<Figure size 432x288 with 1 Axes>"
      ]
     },
     "metadata": {
      "needs_background": "light"
     },
     "output_type": "display_data"
    }
   ],
   "source": [
    "num_games = 10000000\n",
    "for i in range(num_games+1):\n",
    "    r, game_record = play_game(deck, player)\n",
    "    player.learn(r, game_record)\n",
    "    \n",
    "player.show_policy()"
   ]
  },
  {
   "cell_type": "code",
   "execution_count": 469,
   "metadata": {},
   "outputs": [],
   "source": [
    "def play_full_game(deck, player):\n",
    "    \n",
    "    state = initialize_state(deck)\n",
    "    starting_action = player.policy[state]\n",
    "    game_record = [(state, starting_action)]\n",
    "    \n",
    "    while True:\n",
    "        state = game_record[-1][0]\n",
    "        player_sum = state[1]\n",
    "        player_action = game_record[-1][1]\n",
    "        \n",
    "        if player_action == 'Hit':\n",
    "            card = draw_card(deck)\n",
    "            player_sum, usable_ace = compute_sum(card, player_sum, state[0])\n",
    "            new_state = (usable_ace, player_sum, state[2])\n",
    "            if player_sum > 21:\n",
    "                return -1, game_record\n",
    "            game_record.append((new_state, player.policy[new_state]))\n",
    "        else:\n",
    "            dealer_card = state[2]\n",
    "            if dealer_card == 'A':\n",
    "                dealer_sum = 11\n",
    "                dealer_ace = True\n",
    "            else: \n",
    "                dealer_sum = dealer_card\n",
    "                dealer_ace = False\n",
    "            while True:\n",
    "                card = draw_card(deck)\n",
    "                dealer_sum, dealer_ace = compute_sum(card, dealer_sum, dealer_ace)\n",
    "                if dealer_sum > 21:\n",
    "                    return 1, game_record\n",
    "                elif dealer_sum >= dealer_sticks:\n",
    "                    if dealer_sum > player_sum:\n",
    "                        return -1, game_record\n",
    "                    elif dealer_sum == player_sum:\n",
    "                        return 0, game_record\n",
    "                    return 1, game_record"
   ]
  },
  {
   "cell_type": "code",
   "execution_count": 471,
   "metadata": {},
   "outputs": [
    {
     "name": "stdout",
     "output_type": "stream",
     "text": [
      "The player ended up with -4686 total money.\n",
      "The expected value is -4.686 %\n"
     ]
    }
   ],
   "source": [
    "num_games = 100000\n",
    "total_money = 0\n",
    "\n",
    "for i in range(num_games):\n",
    "    r, game_record = play_full_game(deck, player)\n",
    "    total_money += r\n",
    "\n",
    "print('The player ended up with', total_money, 'total money.')\n",
    "print('The expected value is', 100*total_money/num_games,'%')"
   ]
  }
 ],
 "metadata": {
  "kernelspec": {
   "display_name": "Python 3",
   "language": "python",
   "name": "python3"
  },
  "language_info": {
   "codemirror_mode": {
    "name": "ipython",
    "version": 3
   },
   "file_extension": ".py",
   "mimetype": "text/x-python",
   "name": "python",
   "nbconvert_exporter": "python",
   "pygments_lexer": "ipython3",
   "version": "3.7.4"
  }
 },
 "nbformat": 4,
 "nbformat_minor": 2
}
